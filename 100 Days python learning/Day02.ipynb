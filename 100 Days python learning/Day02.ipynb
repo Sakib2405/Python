{
 "cells": [
  {
   "cell_type": "markdown",
   "id": "9b3de13a",
   "metadata": {},
   "source": [
    "# Day 02"
   ]
  },
  {
   "cell_type": "markdown",
   "id": "e3bbbedc",
   "metadata": {},
   "source": [
    "### **Python supports 3 categories of data types:\n",
    "+ Basic Types: (integer,float,complex,boolean and string)\n",
    "+ Container Types: (List,Tuples,Sets and Dictionary)\n",
    "+ User-defined Types: Class "
   ]
  },
  {
   "cell_type": "code",
   "execution_count": 2,
   "id": "fff4adf3",
   "metadata": {},
   "outputs": [
    {
     "name": "stdout",
     "output_type": "stream",
     "text": [
      "5\n",
      "inf\n"
     ]
    }
   ],
   "source": [
    "# integer\n",
    "print(5)\n",
    "print(1e309)"
   ]
  },
  {
   "cell_type": "code",
   "execution_count": 7,
   "id": "9e4d0100",
   "metadata": {},
   "outputs": [
    {
     "name": "stdout",
     "output_type": "stream",
     "text": [
      "1.5\n",
      "1.7e+308\n"
     ]
    }
   ],
   "source": [
    "# float\n",
    "print(1.5)\n",
    "print(1.7e308)"
   ]
  },
  {
   "cell_type": "code",
   "execution_count": 8,
   "id": "6b213416",
   "metadata": {},
   "outputs": [
    {
     "name": "stdout",
     "output_type": "stream",
     "text": [
      "(4+7j)\n"
     ]
    }
   ],
   "source": [
    "# complex\n",
    "print(4+7j)"
   ]
  },
  {
   "cell_type": "code",
   "execution_count": 10,
   "id": "88734f69",
   "metadata": {},
   "outputs": [
    {
     "name": "stdout",
     "output_type": "stream",
     "text": [
      "Bangladesh\n",
      "Bangladesh\n",
      "Bangladesh\n"
     ]
    }
   ],
   "source": [
    "# string\n",
    "print('Bangladesh')\n",
    "print(\"Bangladesh\")\n",
    "print('''Bangladesh''')"
   ]
  },
  {
   "cell_type": "code",
   "execution_count": 12,
   "id": "528b5c7c",
   "metadata": {},
   "outputs": [
    {
     "name": "stdout",
     "output_type": "stream",
     "text": [
      "[1, 2, 3, 4, 5]\n"
     ]
    }
   ],
   "source": [
    "# list\n",
    "print([1,2,3,4,5])"
   ]
  },
  {
   "cell_type": "code",
   "execution_count": 13,
   "id": "ab504b3e",
   "metadata": {},
   "outputs": [
    {
     "name": "stdout",
     "output_type": "stream",
     "text": [
      "(1, 2, 3, 4, 5)\n"
     ]
    }
   ],
   "source": [
    "# tuples\n",
    "print((1,2,3,4,5))"
   ]
  },
  {
   "cell_type": "code",
   "execution_count": 14,
   "id": "a53e409d",
   "metadata": {},
   "outputs": [
    {
     "name": "stdout",
     "output_type": "stream",
     "text": [
      "{1, 2, 3, 4, 5}\n"
     ]
    }
   ],
   "source": [
    "# sets\n",
    "print({1,2,3,4,5})"
   ]
  },
  {
   "cell_type": "code",
   "execution_count": 15,
   "id": "aa280958",
   "metadata": {},
   "outputs": [
    {
     "name": "stdout",
     "output_type": "stream",
     "text": [
      "{'Name': 'Sakib', 'Age': 24, 'Gender': 'Male'}\n"
     ]
    }
   ],
   "source": [
    "# dic\n",
    "print({\"Name\":\"Sakib\",\"Age\":24,\"Gender\": \"Male\"})"
   ]
  },
  {
   "cell_type": "code",
   "execution_count": null,
   "id": "ab86c59f",
   "metadata": {},
   "outputs": [],
   "source": []
  }
 ],
 "metadata": {
  "kernelspec": {
   "display_name": ".venv",
   "language": "python",
   "name": "python3"
  },
  "language_info": {
   "codemirror_mode": {
    "name": "ipython",
    "version": 3
   },
   "file_extension": ".py",
   "mimetype": "text/x-python",
   "name": "python",
   "nbconvert_exporter": "python",
   "pygments_lexer": "ipython3",
   "version": "3.13.5"
  }
 },
 "nbformat": 4,
 "nbformat_minor": 5
}
