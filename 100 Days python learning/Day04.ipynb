{
 "cells": [
  {
   "cell_type": "markdown",
   "id": "0f8e4c6e",
   "metadata": {},
   "source": [
    "#  Day 04"
   ]
  },
  {
   "cell_type": "markdown",
   "id": "e19f1c7b",
   "metadata": {},
   "source": [
    "### Variable in python"
   ]
  },
  {
   "cell_type": "code",
   "execution_count": 5,
   "id": "a7730db1",
   "metadata": {},
   "outputs": [],
   "source": [
    "name = \"Nazmus Sakib\""
   ]
  },
  {
   "cell_type": "code",
   "execution_count": 6,
   "id": "6c781334",
   "metadata": {},
   "outputs": [
    {
     "name": "stdout",
     "output_type": "stream",
     "text": [
      "Nazmus Sakib\n"
     ]
    }
   ],
   "source": [
    "print (name)"
   ]
  },
  {
   "cell_type": "code",
   "execution_count": 7,
   "id": "6236444e",
   "metadata": {},
   "outputs": [
    {
     "name": "stdout",
     "output_type": "stream",
     "text": [
      "Hello world\n"
     ]
    }
   ],
   "source": [
    "name = \"Hello world\"\n",
    "print(name)"
   ]
  },
  {
   "cell_type": "code",
   "execution_count": 8,
   "id": "79dfb0ab",
   "metadata": {},
   "outputs": [],
   "source": [
    "# no varibale declaration"
   ]
  },
  {
   "cell_type": "code",
   "execution_count": 9,
   "id": "4f93d6ec",
   "metadata": {},
   "outputs": [],
   "source": [
    "# Dynamic Typing...> PHP\n",
    "# Static typing"
   ]
  },
  {
   "cell_type": "code",
   "execution_count": 10,
   "id": "77c800e7",
   "metadata": {},
   "outputs": [
    {
     "name": "stdout",
     "output_type": "stream",
     "text": [
      "4\n"
     ]
    }
   ],
   "source": [
    "name = 4\n",
    "print(name)"
   ]
  },
  {
   "cell_type": "code",
   "execution_count": 11,
   "id": "8fecc536",
   "metadata": {},
   "outputs": [
    {
     "name": "stdout",
     "output_type": "stream",
     "text": [
      "True\n"
     ]
    }
   ],
   "source": [
    "name = True\n",
    "print(name)"
   ]
  },
  {
   "cell_type": "code",
   "execution_count": 12,
   "id": "51ad5911",
   "metadata": {},
   "outputs": [],
   "source": [
    "#Dynamic Binding"
   ]
  },
  {
   "cell_type": "code",
   "execution_count": 13,
   "id": "341cfd9b",
   "metadata": {},
   "outputs": [],
   "source": [
    "#Static Binding"
   ]
  },
  {
   "cell_type": "code",
   "execution_count": 14,
   "id": "d1922708",
   "metadata": {},
   "outputs": [
    {
     "name": "stdout",
     "output_type": "stream",
     "text": [
      "5\n",
      "6\n",
      "4\n"
     ]
    }
   ],
   "source": [
    "# Special Syntax\n",
    "a = 5; b = 6; c= 4;\n",
    "print(a)\n",
    "print(b)\n",
    "print(c)"
   ]
  },
  {
   "cell_type": "code",
   "execution_count": 16,
   "id": "6de97527",
   "metadata": {},
   "outputs": [
    {
     "name": "stdout",
     "output_type": "stream",
     "text": [
      "4\n",
      "5\n",
      "6\n"
     ]
    }
   ],
   "source": [
    "a,b,c = 4,5,6\n",
    "print(a)\n",
    "print(b)\n",
    "print(c)"
   ]
  },
  {
   "cell_type": "code",
   "execution_count": 18,
   "id": "4b6dea03",
   "metadata": {},
   "outputs": [
    {
     "name": "stdout",
     "output_type": "stream",
     "text": [
      "8\n",
      "8\n",
      "8\n"
     ]
    }
   ],
   "source": [
    "a=b=c=8\n",
    "print(a)\n",
    "print(b)\n",
    "print(c)"
   ]
  }
 ],
 "metadata": {
  "kernelspec": {
   "display_name": ".venv",
   "language": "python",
   "name": "python3"
  },
  "language_info": {
   "codemirror_mode": {
    "name": "ipython",
    "version": 3
   },
   "file_extension": ".py",
   "mimetype": "text/x-python",
   "name": "python",
   "nbconvert_exporter": "python",
   "pygments_lexer": "ipython3",
   "version": "3.13.5"
  }
 },
 "nbformat": 4,
 "nbformat_minor": 5
}
