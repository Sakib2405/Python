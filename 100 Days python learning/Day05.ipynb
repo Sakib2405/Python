{
 "cells": [
  {
   "cell_type": "markdown",
   "id": "75bcaddb",
   "metadata": {},
   "source": [
    "# Day 05"
   ]
  },
  {
   "cell_type": "markdown",
   "id": "dff78c82",
   "metadata": {},
   "source": [
    "### **Keywords**\n",
    " + Python is a case sensitive programming lannguage\n",
    "  \n",
    "In programming, a keyword is a word that is reserved by a program because the word has a special meaning. Keywords can be commands or parameteres. Every progaramming language has a set of keywords that cannot be used as variable names\n"
   ]
  },
  {
   "cell_type": "code",
   "execution_count": 2,
   "id": "1e479a49",
   "metadata": {},
   "outputs": [
    {
     "name": "stdout",
     "output_type": "stream",
     "text": [
      "['False', 'None', 'True', 'and', 'as', 'assert', 'async', 'await', 'break', 'class', 'continue', 'def', 'del', 'elif', 'else', 'except', 'finally', 'for', 'from', 'global', 'if', 'import', 'in', 'is', 'lambda', 'nonlocal', 'not', 'or', 'pass', 'raise', 'return', 'try', 'while', 'with', 'yield']\n"
     ]
    }
   ],
   "source": [
    "# python has 33 keywords\n",
    "import keyword\n",
    "print(keyword.kwlist)"
   ]
  },
  {
   "cell_type": "markdown",
   "id": "3143694b",
   "metadata": {},
   "source": [
    "###  **Identifiers**"
   ]
  },
  {
   "cell_type": "markdown",
   "id": "37d526fc",
   "metadata": {},
   "source": [
    "A Python identifier is a name used to identify a variable, function, class module or other object."
   ]
  },
  {
   "cell_type": "markdown",
   "id": "43861877",
   "metadata": {},
   "source": []
  },
  {
   "cell_type": "markdown",
   "id": "b3043540",
   "metadata": {},
   "source": [
    "##### **Rules for setting identifiers**\n",
    "\n",
    "+ Can only start with an alphabet or _\n",
    "+ Followed by 0 or more letter,_ and digits\n",
    "+ Keywords cannot be used as an identifiers"
   ]
  },
  {
   "cell_type": "code",
   "execution_count": 3,
   "id": "7fe5947f",
   "metadata": {},
   "outputs": [
    {
     "name": "stdout",
     "output_type": "stream",
     "text": [
      "Nazmus Sakib\n"
     ]
    }
   ],
   "source": [
    "name = \"Nazmus Sakib\"\n",
    "print(name)"
   ]
  },
  {
   "cell_type": "markdown",
   "id": "8546e36c",
   "metadata": {},
   "source": [
    "### **Taking user input and type conversion**"
   ]
  },
  {
   "cell_type": "code",
   "execution_count": 1,
   "id": "e017588f",
   "metadata": {},
   "outputs": [
    {
     "data": {
      "text/plain": [
       "'56'"
      ]
     },
     "execution_count": 1,
     "metadata": {},
     "output_type": "execute_result"
    }
   ],
   "source": [
    "input()"
   ]
  },
  {
   "cell_type": "code",
   "execution_count": 2,
   "id": "30d888f2",
   "metadata": {},
   "outputs": [
    {
     "data": {
      "text/plain": [
       "'Nazmus Sakib'"
      ]
     },
     "execution_count": 2,
     "metadata": {},
     "output_type": "execute_result"
    }
   ],
   "source": [
    "input(\"Enter your name: \")"
   ]
  },
  {
   "cell_type": "code",
   "execution_count": 3,
   "id": "7575063d",
   "metadata": {},
   "outputs": [],
   "source": [
    "first_num = input(\"Enter the first num: \")\n",
    "second_num = input(\"Enter the second num: \")"
   ]
  },
  {
   "cell_type": "code",
   "execution_count": 4,
   "id": "65a81055",
   "metadata": {},
   "outputs": [
    {
     "name": "stdout",
     "output_type": "stream",
     "text": [
      "50\n",
      "66\n"
     ]
    }
   ],
   "source": [
    "print(first_num)\n",
    "print(second_num)"
   ]
  },
  {
   "cell_type": "code",
   "execution_count": 6,
   "id": "a8567b3e",
   "metadata": {},
   "outputs": [
    {
     "name": "stdout",
     "output_type": "stream",
     "text": [
      "5066\n"
     ]
    }
   ],
   "source": [
    "result = first_num+second_num\n",
    "print(result)"
   ]
  },
  {
   "cell_type": "code",
   "execution_count": 7,
   "id": "c87394ad",
   "metadata": {},
   "outputs": [
    {
     "data": {
      "text/plain": [
       "int"
      ]
     },
     "execution_count": 7,
     "metadata": {},
     "output_type": "execute_result"
    }
   ],
   "source": [
    "# type\n",
    "type(4)"
   ]
  },
  {
   "cell_type": "code",
   "execution_count": 9,
   "id": "5823f99a",
   "metadata": {},
   "outputs": [
    {
     "data": {
      "text/plain": [
       "float"
      ]
     },
     "execution_count": 9,
     "metadata": {},
     "output_type": "execute_result"
    }
   ],
   "source": [
    "# type\n",
    "type(4.6)"
   ]
  },
  {
   "cell_type": "code",
   "execution_count": 10,
   "id": "d70bb848",
   "metadata": {},
   "outputs": [
    {
     "data": {
      "text/plain": [
       "str"
      ]
     },
     "execution_count": 10,
     "metadata": {},
     "output_type": "execute_result"
    }
   ],
   "source": [
    "# type\n",
    "type(\"4\")"
   ]
  },
  {
   "cell_type": "code",
   "execution_count": 12,
   "id": "baf97c69",
   "metadata": {},
   "outputs": [
    {
     "data": {
      "text/plain": [
       "bool"
      ]
     },
     "execution_count": 12,
     "metadata": {},
     "output_type": "execute_result"
    }
   ],
   "source": [
    "#type\n",
    "type(True)"
   ]
  },
  {
   "cell_type": "code",
   "execution_count": 13,
   "id": "3263dccc",
   "metadata": {},
   "outputs": [
    {
     "data": {
      "text/plain": [
       "complex"
      ]
     },
     "execution_count": 13,
     "metadata": {},
     "output_type": "execute_result"
    }
   ],
   "source": [
    "# type\n",
    "type(6+7j)"
   ]
  },
  {
   "cell_type": "code",
   "execution_count": 14,
   "id": "7ebd4dc8",
   "metadata": {},
   "outputs": [
    {
     "data": {
      "text/plain": [
       "tuple"
      ]
     },
     "execution_count": 14,
     "metadata": {},
     "output_type": "execute_result"
    }
   ],
   "source": [
    "# type\n",
    "type((1,2,3,4,5))"
   ]
  },
  {
   "cell_type": "code",
   "execution_count": 15,
   "id": "c15d4bfc",
   "metadata": {},
   "outputs": [
    {
     "data": {
      "text/plain": [
       "list"
      ]
     },
     "execution_count": 15,
     "metadata": {},
     "output_type": "execute_result"
    }
   ],
   "source": [
    "# type\n",
    "type([1,2,3,4,5])"
   ]
  },
  {
   "cell_type": "code",
   "execution_count": 16,
   "id": "97990721",
   "metadata": {},
   "outputs": [
    {
     "data": {
      "text/plain": [
       "str"
      ]
     },
     "execution_count": 16,
     "metadata": {},
     "output_type": "execute_result"
    }
   ],
   "source": [
    "type(first_num)"
   ]
  },
  {
   "cell_type": "code",
   "execution_count": 17,
   "id": "3239434e",
   "metadata": {},
   "outputs": [
    {
     "data": {
      "text/plain": [
       "'50'"
      ]
     },
     "execution_count": 17,
     "metadata": {},
     "output_type": "execute_result"
    }
   ],
   "source": [
    "first_num"
   ]
  },
  {
   "cell_type": "code",
   "execution_count": 18,
   "id": "cccc5068",
   "metadata": {},
   "outputs": [],
   "source": [
    "# implicit\n",
    "# explicit"
   ]
  },
  {
   "cell_type": "code",
   "execution_count": 19,
   "id": "4565f778",
   "metadata": {},
   "outputs": [
    {
     "data": {
      "text/plain": [
       "9.5"
      ]
     },
     "execution_count": 19,
     "metadata": {},
     "output_type": "execute_result"
    }
   ],
   "source": [
    "4+5.5"
   ]
  },
  {
   "cell_type": "code",
   "execution_count": 20,
   "id": "d2f13512",
   "metadata": {},
   "outputs": [
    {
     "data": {
      "text/plain": [
       "(11+7j)"
      ]
     },
     "execution_count": 20,
     "metadata": {},
     "output_type": "execute_result"
    }
   ],
   "source": [
    "5+6+7j"
   ]
  },
  {
   "cell_type": "code",
   "execution_count": 21,
   "id": "42e62ce6",
   "metadata": {},
   "outputs": [
    {
     "data": {
      "text/plain": [
       "(9.5+3j)"
      ]
     },
     "execution_count": 21,
     "metadata": {},
     "output_type": "execute_result"
    }
   ],
   "source": [
    "4.5+5+3j"
   ]
  },
  {
   "cell_type": "code",
   "execution_count": 23,
   "id": "da268660",
   "metadata": {},
   "outputs": [
    {
     "data": {
      "text/plain": [
       "4"
      ]
     },
     "execution_count": 23,
     "metadata": {},
     "output_type": "execute_result"
    }
   ],
   "source": [
    "# float to int\n",
    "int(4.5)"
   ]
  },
  {
   "cell_type": "code",
   "execution_count": 24,
   "id": "77e349c5",
   "metadata": {},
   "outputs": [
    {
     "data": {
      "text/plain": [
       "4.0"
      ]
     },
     "execution_count": 24,
     "metadata": {},
     "output_type": "execute_result"
    }
   ],
   "source": [
    "float(4)"
   ]
  },
  {
   "cell_type": "code",
   "execution_count": 28,
   "id": "8b52ecfd",
   "metadata": {},
   "outputs": [
    {
     "data": {
      "text/plain": [
       "'5'"
      ]
     },
     "execution_count": 28,
     "metadata": {},
     "output_type": "execute_result"
    }
   ],
   "source": [
    "str(5)"
   ]
  },
  {
   "cell_type": "code",
   "execution_count": 29,
   "id": "53275241",
   "metadata": {},
   "outputs": [
    {
     "data": {
      "text/plain": [
       "(5+0j)"
      ]
     },
     "execution_count": 29,
     "metadata": {},
     "output_type": "execute_result"
    }
   ],
   "source": [
    "complex(5)"
   ]
  },
  {
   "cell_type": "code",
   "execution_count": 30,
   "id": "3dd4ccad",
   "metadata": {},
   "outputs": [
    {
     "data": {
      "text/plain": [
       "['S', 'a', 'k', 'i', 'b']"
      ]
     },
     "execution_count": 30,
     "metadata": {},
     "output_type": "execute_result"
    }
   ],
   "source": [
    "list(\"Sakib\")"
   ]
  }
 ],
 "metadata": {
  "kernelspec": {
   "display_name": ".venv",
   "language": "python",
   "name": "python3"
  },
  "language_info": {
   "codemirror_mode": {
    "name": "ipython",
    "version": 3
   },
   "file_extension": ".py",
   "mimetype": "text/x-python",
   "name": "python",
   "nbconvert_exporter": "python",
   "pygments_lexer": "ipython3",
   "version": "3.13.5"
  }
 },
 "nbformat": 4,
 "nbformat_minor": 5
}
