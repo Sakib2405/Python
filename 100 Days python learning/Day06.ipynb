{
 "cells": [
  {
   "cell_type": "markdown",
   "id": "8592ddc0",
   "metadata": {},
   "source": [
    "# Day 06"
   ]
  },
  {
   "cell_type": "markdown",
   "id": "d4956d10",
   "metadata": {},
   "source": [
    "### **Literals**\n",
    "\n",
    "Literal is a raw data given in a variable. In Python, there are various types of literals they are as follows:\n",
    "\n",
    "+ Numeric Literals\n",
    "+ String Litereals\n",
    "+ Boolean Litereals\n",
    "+ Special Litereals\n",
    "  \n",
    "**1. Numeric Literals**"
   ]
  },
  {
   "cell_type": "code",
   "execution_count": null,
   "id": "4f1e67ed",
   "metadata": {},
   "outputs": [
    {
     "name": "stdout",
     "output_type": "stream",
     "text": [
      "10 100 200 300\n",
      "10.5 150.0 1500.0\n",
      "3.14j 3.14 0.0\n"
     ]
    }
   ],
   "source": [
    "a = 0b1010 #Binary literals\n",
    "b = 100 #Decimal Literals\n",
    "c = 0o310 #Octal Literals\n",
    "d = 0x12c #Hexadecimal Literals\n",
    "\n",
    "#Float Literal\n",
    "float_1 = 10.5\n",
    "float_2 = 1.5e2\n",
    "float_3 = 1.5e3\n",
    "\n",
    "#Complex Literals\n",
    "x = 0+3.14j\n",
    "\n",
    "print(a,b,c,d)\n",
    "print(float_1,float_2,float_3)\n",
    "print(x, x.imag, x.real)"
   ]
  },
  {
   "cell_type": "markdown",
   "id": "6531ae49",
   "metadata": {},
   "source": [
    "**2. String Literals**"
   ]
  },
  {
   "cell_type": "code",
   "execution_count": 17,
   "id": "12d6ac18",
   "metadata": {},
   "outputs": [
    {
     "name": "stdout",
     "output_type": "stream",
     "text": [
      "This is Python\n",
      "This  is Python\n",
      "C\n",
      "C\n",
      "This is a multiline string with more than one line code.\n",
      "😀😆🤣😃\n",
      "raw \\n string\n"
     ]
    }
   ],
   "source": [
    "string = 'This is Python'\n",
    "strings = \"This  is Python\"\n",
    "char = \"C\"\n",
    "chars = 'C'\n",
    "multiline_str = \"\"\"This is a multiline string with more than one line code.\"\"\"\n",
    "unicode = u\"\\U0001f600\\U0001F606\\U0001F923\\U0001f603\"\n",
    "raw_str = r\"raw \\n string\"\n",
    "\n",
    "print(string)\n",
    "print(strings)\n",
    "print(char)\n",
    "print(chars)\n",
    "print(multiline_str)\n",
    "print(unicode)\n",
    "print(raw_str)"
   ]
  },
  {
   "cell_type": "markdown",
   "id": "c0f45edc",
   "metadata": {},
   "source": [
    "**3. Boolean Literal**"
   ]
  },
  {
   "cell_type": "code",
   "execution_count": 19,
   "id": "3ffc0ad3",
   "metadata": {},
   "outputs": [
    {
     "name": "stdout",
     "output_type": "stream",
     "text": [
      "a: 5\n",
      "b: 10\n"
     ]
    }
   ],
   "source": [
    "a = True + 4\n",
    "b = False + 10\n",
    "\n",
    "print(\"a:\",a)\n",
    "print(\"b:\",b)"
   ]
  },
  {
   "cell_type": "markdown",
   "id": "dd425c63",
   "metadata": {},
   "source": [
    "**4. Special Literal**"
   ]
  },
  {
   "cell_type": "code",
   "execution_count": 20,
   "id": "c4ec7ed3",
   "metadata": {},
   "outputs": [
    {
     "name": "stdout",
     "output_type": "stream",
     "text": [
      "None\n"
     ]
    }
   ],
   "source": [
    "a = None\n",
    "print(a)"
   ]
  },
  {
   "cell_type": "code",
   "execution_count": 21,
   "id": "9898c4d5",
   "metadata": {},
   "outputs": [],
   "source": [
    "c= 34+24"
   ]
  },
  {
   "cell_type": "code",
   "execution_count": 23,
   "id": "0eee0cc8",
   "metadata": {},
   "outputs": [],
   "source": [
    "#Varialble declaration\n",
    "K = None"
   ]
  }
 ],
 "metadata": {
  "kernelspec": {
   "display_name": ".venv",
   "language": "python",
   "name": "python3"
  },
  "language_info": {
   "codemirror_mode": {
    "name": "ipython",
    "version": 3
   },
   "file_extension": ".py",
   "mimetype": "text/x-python",
   "name": "python",
   "nbconvert_exporter": "python",
   "pygments_lexer": "ipython3",
   "version": "3.13.5"
  }
 },
 "nbformat": 4,
 "nbformat_minor": 5
}
