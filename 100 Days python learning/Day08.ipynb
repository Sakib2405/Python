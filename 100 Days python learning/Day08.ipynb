{
 "cells": [
  {
   "cell_type": "markdown",
   "id": "e3244841",
   "metadata": {},
   "source": [
    "# Day 08"
   ]
  },
  {
   "cell_type": "markdown",
   "id": "0f1da10a",
   "metadata": {},
   "source": [
    "### Decision control"
   ]
  },
  {
   "cell_type": "code",
   "execution_count": 11,
   "id": "e6dad1f2",
   "metadata": {},
   "outputs": [
    {
     "name": "stdout",
     "output_type": "stream",
     "text": [
      "Welcome\n"
     ]
    }
   ],
   "source": [
    "# correct email: admin@gmail.com\n",
    "# correct password: 1234\n",
    "\n",
    "email = input(\"Enter your email address: \")\n",
    "if '@' in email:\n",
    "    password = input(\"Enter your password: \")\n",
    "\n",
    "    if email == \"admin@gmail.com\" and password == \"1234\": \n",
    "        print(\"Welcome\")\n",
    "    elif email == \"admin@gmail.com\" and password != \"1234\":\n",
    "        print(\"Password Incorrect.\")\n",
    "        password = input(\"Enter password again: \")\n",
    "        if password == \"1234\":\n",
    "            print(\"Finally correct.\")\n",
    "        else:\n",
    "            print(\"Still incorrect\")\n",
    "    else:\n",
    "        print(\"Wrong Information.\")\n",
    "else:\n",
    "    print(\"Not a correct Email address.\")"
   ]
  },
  {
   "cell_type": "code",
   "execution_count": 14,
   "id": "75a5a55d",
   "metadata": {},
   "outputs": [
    {
     "name": "stdout",
     "output_type": "stream",
     "text": [
      "Password Incorrect.\n",
      "Finally Correct.\n"
     ]
    }
   ],
   "source": [
    "# Correct email address: sakib@gmail.com\n",
    "# correct password: 1234\n",
    "\n",
    "email = input(\"Enter your Email address: \")\n",
    "if '@' in email:\n",
    "    password = input(\"Enter password: \")\n",
    "    if email == \"sakib@gmail.com\" and password == \"1234\":\n",
    "        print(\"Welcome to the dashboard.\")\n",
    "    elif email == \"sakib@gmail.com\" and password != \"1234\":\n",
    "        print(\"Password Incorrect.\")\n",
    "        password = input(\"Enter password again:\")\n",
    "        if password == \"1234\" :\n",
    "            print(\"Finally Correct.\")\n",
    "        else:\n",
    "            print(\"Still incorrect.\")\n",
    "    else:\n",
    "        print(\"Incorrect information.\")\n",
    "else:\n",
    "    print(\"Wrong email.\")"
   ]
  },
  {
   "cell_type": "code",
   "execution_count": 29,
   "id": "4bd04cff",
   "metadata": {},
   "outputs": [
    {
     "name": "stdout",
     "output_type": "stream",
     "text": [
      "Welcome to the dashboard!!\n"
     ]
    }
   ],
   "source": [
    "email = input(\"Enter email: \")\n",
    "if '@' in email:\n",
    "    password = input(\"Enter password: \")\n",
    "\n",
    "    if email == \"abc@gmail.com\" and password == \"1234\":\n",
    "        print(\"Welcome to the dashboard!!\")\n",
    "    elif email == \"abc@gmail.com\" and password != \"1234\":\n",
    "        print(\"Wrong password.\")\n",
    "        password = input(\"Enter pass again: \")\n",
    "        if password == \"1234\":\n",
    "            print(\"Finally correct.\")\n",
    "        else:\n",
    "            print(\"Still wrong.\")\n",
    "    else:\n",
    "        print(\"Wrong information. Please try again.\")\n",
    "else:\n",
    "    print(\"Wrong email address.\")"
   ]
  },
  {
   "cell_type": "code",
   "execution_count": 8,
   "id": "e79cebf6",
   "metadata": {},
   "outputs": [
    {
     "name": "stdout",
     "output_type": "stream",
     "text": [
      "Welcome to the dashboard.\n"
     ]
    }
   ],
   "source": [
    "# correct email = sakib@gmail.com\n",
    "# correct pass = 1234\n",
    "\n",
    "email = input(\"Enter your email: \")\n",
    "if '@' in email:\n",
    "    password = input(\"Enter your password: \")\n",
    "    if email ==\"sakib@gmail.com\" and password == \"1234\":\n",
    "        print(\"Welcome to the dashboard.\")\n",
    "    elif email == \"sakib@gmail.com\" and password != \"1234\":\n",
    "        print(\"Wrong password!!\")\n",
    "        password = input(\"Enter password again: \")\n",
    "        if password == \"1234\":\n",
    "            print(\"Finally correct.\")\n",
    "        else:\n",
    "            print(\"Still incorrect!!\")\n",
    "    else:\n",
    "        print(\"Wrong attemps.\")\n",
    "else:\n",
    "    print(\"Invalid Email.\")"
   ]
  },
  {
   "cell_type": "code",
   "execution_count": null,
   "id": "30877acc",
   "metadata": {},
   "outputs": [],
   "source": []
  }
 ],
 "metadata": {
  "kernelspec": {
   "display_name": ".venv",
   "language": "python",
   "name": "python3"
  },
  "language_info": {
   "codemirror_mode": {
    "name": "ipython",
    "version": 3
   },
   "file_extension": ".py",
   "mimetype": "text/x-python",
   "name": "python",
   "nbconvert_exporter": "python",
   "pygments_lexer": "ipython3",
   "version": "3.13.5"
  }
 },
 "nbformat": 4,
 "nbformat_minor": 5
}
