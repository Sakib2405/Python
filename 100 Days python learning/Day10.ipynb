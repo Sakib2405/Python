{
 "cells": [
  {
   "cell_type": "markdown",
   "id": "50809d98",
   "metadata": {},
   "source": [
    "# Day 10"
   ]
  },
  {
   "cell_type": "markdown",
   "id": "eb9eab1b",
   "metadata": {},
   "source": [
    "### Built-in function\n",
    "\n",
    "\n",
    "**1. print**"
   ]
  },
  {
   "cell_type": "code",
   "execution_count": 2,
   "id": "622e48b9",
   "metadata": {},
   "outputs": [
    {
     "name": "stdout",
     "output_type": "stream",
     "text": [
      "Hello World\n"
     ]
    }
   ],
   "source": [
    "print(\"Hello World\")"
   ]
  },
  {
   "cell_type": "markdown",
   "id": "6f0d0905",
   "metadata": {},
   "source": [
    "**2. input**"
   ]
  },
  {
   "cell_type": "code",
   "execution_count": 3,
   "id": "49710a45",
   "metadata": {},
   "outputs": [
    {
     "data": {
      "text/plain": [
       "'Nazmus Sakib'"
      ]
     },
     "execution_count": 3,
     "metadata": {},
     "output_type": "execute_result"
    }
   ],
   "source": [
    "input(\"Enter your name: \")"
   ]
  },
  {
   "cell_type": "markdown",
   "id": "f514f8d2",
   "metadata": {},
   "source": [
    "**3. type**"
   ]
  },
  {
   "cell_type": "code",
   "execution_count": 4,
   "id": "17e121d8",
   "metadata": {},
   "outputs": [
    {
     "data": {
      "text/plain": [
       "int"
      ]
     },
     "execution_count": 4,
     "metadata": {},
     "output_type": "execute_result"
    }
   ],
   "source": [
    "a = 3\n",
    "type(a)"
   ]
  },
  {
   "cell_type": "markdown",
   "id": "63fed60f",
   "metadata": {},
   "source": [
    "**4. int etc**"
   ]
  },
  {
   "cell_type": "code",
   "execution_count": 7,
   "id": "50bbc7e4",
   "metadata": {},
   "outputs": [
    {
     "data": {
      "text/plain": [
       "5"
      ]
     },
     "execution_count": 7,
     "metadata": {},
     "output_type": "execute_result"
    }
   ],
   "source": [
    "int(5.4)\n",
    "# float\n",
    "# list\n",
    "# tuple"
   ]
  },
  {
   "cell_type": "markdown",
   "id": "3ddb6c28",
   "metadata": {},
   "source": [
    "**5. abs**"
   ]
  },
  {
   "cell_type": "code",
   "execution_count": 8,
   "id": "ca025387",
   "metadata": {},
   "outputs": [
    {
     "data": {
      "text/plain": [
       "4"
      ]
     },
     "execution_count": 8,
     "metadata": {},
     "output_type": "execute_result"
    }
   ],
   "source": [
    "abs(-4)"
   ]
  },
  {
   "cell_type": "markdown",
   "id": "ce75d718",
   "metadata": {},
   "source": [
    "**6. pow**"
   ]
  },
  {
   "cell_type": "code",
   "execution_count": 19,
   "id": "126b6def",
   "metadata": {},
   "outputs": [
    {
     "name": "stdout",
     "output_type": "stream",
     "text": [
      "8 , 0.125\n"
     ]
    }
   ],
   "source": [
    "print(pow(2,3),\",\", pow(2,-3))"
   ]
  },
  {
   "cell_type": "markdown",
   "id": "a9daf89a",
   "metadata": {},
   "source": [
    "**7. min/max**"
   ]
  },
  {
   "cell_type": "code",
   "execution_count": 22,
   "id": "0a306d92",
   "metadata": {},
   "outputs": [
    {
     "name": "stdout",
     "output_type": "stream",
     "text": [
      "Min:2 Max:78\n"
     ]
    }
   ],
   "source": [
    "print(\"Min:\",min(12,34,56,33,2,23,45), \" \",\"Max:\",max(12,34,56,43,56,78,54,78),sep=\"\")"
   ]
  },
  {
   "cell_type": "markdown",
   "id": "d91500a4",
   "metadata": {},
   "source": [
    "**8. round**"
   ]
  },
  {
   "cell_type": "code",
   "execution_count": 24,
   "id": "02a4a9bf",
   "metadata": {},
   "outputs": [
    {
     "data": {
      "text/plain": [
       "3.14"
      ]
     },
     "execution_count": 24,
     "metadata": {},
     "output_type": "execute_result"
    }
   ],
   "source": [
    "c = 22/7\n",
    "round(c,2)"
   ]
  },
  {
   "cell_type": "markdown",
   "id": "ba431764",
   "metadata": {},
   "source": [
    "**9. divmod**"
   ]
  },
  {
   "cell_type": "code",
   "execution_count": 25,
   "id": "18282743",
   "metadata": {},
   "outputs": [
    {
     "data": {
      "text/plain": [
       "(2, 1)"
      ]
     },
     "execution_count": 25,
     "metadata": {},
     "output_type": "execute_result"
    }
   ],
   "source": [
    "divmod(5,2)"
   ]
  },
  {
   "cell_type": "markdown",
   "id": "890716ed",
   "metadata": {},
   "source": [
    "**10. bin/oct/hex**"
   ]
  },
  {
   "cell_type": "code",
   "execution_count": 28,
   "id": "b82d7058",
   "metadata": {},
   "outputs": [
    {
     "name": "stdout",
     "output_type": "stream",
     "text": [
      "Bin:0b100 Oct:0o4 Hex:0x4\n"
     ]
    }
   ],
   "source": [
    "print(\"Bin:\",bin(4),\" \",\"Oct:\",oct(4),\" \",\"Hex:\",hex(4),sep=\"\")"
   ]
  },
  {
   "cell_type": "markdown",
   "id": "6841f8d3",
   "metadata": {},
   "source": [
    "**11. id**"
   ]
  },
  {
   "cell_type": "code",
   "execution_count": 29,
   "id": "3d9b1a5b",
   "metadata": {},
   "outputs": [
    {
     "data": {
      "text/plain": [
       "140722805818344"
      ]
     },
     "execution_count": 29,
     "metadata": {},
     "output_type": "execute_result"
    }
   ],
   "source": [
    "a = 3\n",
    "id(a)"
   ]
  },
  {
   "cell_type": "markdown",
   "id": "71bc5706",
   "metadata": {},
   "source": [
    "**12. ord**"
   ]
  },
  {
   "cell_type": "code",
   "execution_count": 31,
   "id": "03736a3f",
   "metadata": {},
   "outputs": [
    {
     "data": {
      "text/plain": [
       "65"
      ]
     },
     "execution_count": 31,
     "metadata": {},
     "output_type": "execute_result"
    }
   ],
   "source": [
    "ord('A')"
   ]
  },
  {
   "cell_type": "markdown",
   "id": "bb136933",
   "metadata": {},
   "source": [
    "**13. len**"
   ]
  },
  {
   "cell_type": "code",
   "execution_count": 32,
   "id": "46bf98e3",
   "metadata": {},
   "outputs": [
    {
     "data": {
      "text/plain": [
       "5"
      ]
     },
     "execution_count": 32,
     "metadata": {},
     "output_type": "execute_result"
    }
   ],
   "source": [
    "len(\"Dhaka\")"
   ]
  },
  {
   "cell_type": "markdown",
   "id": "6f13a4b2",
   "metadata": {},
   "source": [
    "**14. sum**"
   ]
  },
  {
   "cell_type": "code",
   "execution_count": 34,
   "id": "9a435290",
   "metadata": {},
   "outputs": [
    {
     "data": {
      "text/plain": [
       "15"
      ]
     },
     "execution_count": 34,
     "metadata": {},
     "output_type": "execute_result"
    }
   ],
   "source": [
    "sum([1,2,3,4,5])"
   ]
  },
  {
   "cell_type": "markdown",
   "id": "ff25c104",
   "metadata": {},
   "source": [
    "**15. help**"
   ]
  },
  {
   "cell_type": "code",
   "execution_count": 35,
   "id": "29854a32",
   "metadata": {},
   "outputs": [
    {
     "name": "stdout",
     "output_type": "stream",
     "text": [
      "Help on built-in function print in module builtins:\n",
      "\n",
      "print(*args, sep=' ', end='\\n', file=None, flush=False)\n",
      "    Prints the values to a stream, or to sys.stdout by default.\n",
      "\n",
      "    sep\n",
      "      string inserted between values, default a space.\n",
      "    end\n",
      "      string appended after the last value, default a newline.\n",
      "    file\n",
      "      a file-like object (stream); defaults to the current sys.stdout.\n",
      "    flush\n",
      "      whether to forcibly flush the stream.\n",
      "\n"
     ]
    }
   ],
   "source": [
    "help(\"print\")"
   ]
  },
  {
   "cell_type": "markdown",
   "id": "2a74c4ed",
   "metadata": {},
   "source": [
    "### **What are modules?**\n",
    "\n",
    "**Consider a module to be the same as a code libary.**\n",
    "\n",
    "**A file containing a set of functions you want to include in your application.**\n",
    "\n",
    "**Examples of python modules**\n",
    "\n",
    "+ Math\n",
    "+ Random\n",
    "+ os\n",
    "+ time**"
   ]
  },
  {
   "cell_type": "code",
   "execution_count": 36,
   "id": "39b98674",
   "metadata": {},
   "outputs": [
    {
     "name": "stdout",
     "output_type": "stream",
     "text": [
      "\n",
      "Please wait a moment while I gather a list of all available modules...\n",
      "\n",
      "test_sqlite3: testing with SQLite version 3.49.1\n",
      "IPython             _weakrefset         linecache           symtable\n",
      "__future__          _win32sysloader     locale              sys\n",
      "__hello__           _win32verstamp_pywin32ctypes logging             sysconfig\n",
      "__phello__          _winapi             lzma                tabnanny\n",
      "_abc                _winxptheme         mailbox             tarfile\n",
      "_aix_support        _wmi                marshal             tempfile\n",
      "_android_support    _zoneinfo           math                test\n",
      "_apple_support      abc                 matplotlib_inline   textwrap\n",
      "_ast                adodbapi            mimetypes           this\n",
      "_asyncio            afxres              mmap                threading\n",
      "_bisect             antigravity         mmapfile            time\n",
      "_blake2             argparse            mmsystem            timeit\n",
      "_bz2                array               modulefinder        timer\n",
      "_codecs             ast                 msvcrt              tkinter\n",
      "_codecs_cn          asttokens           multiprocessing     token\n",
      "_codecs_hk          asyncio             nest_asyncio        tokenize\n",
      "_codecs_iso2022     atexit              netbios             tomllib\n",
      "_codecs_jp          base64              netrc               tornado\n",
      "_codecs_kr          bdb                 nt                  trace\n",
      "_codecs_tw          binascii            ntpath              traceback\n",
      "_collections        bisect              ntsecuritycon       tracemalloc\n",
      "_collections_abc    builtins            nturl2path          traitlets\n",
      "_colorize           bz2                 numbers             tty\n",
      "_compat_pickle      cProfile            odbc                turtle\n",
      "_compression        calendar            opcode              turtledemo\n",
      "_contextvars        cmath               operator            types\n",
      "_csv                cmd                 optparse            typing\n",
      "_ctypes             code                os                  unicodedata\n",
      "_ctypes_test        codecs              packaging           unittest\n",
      "_datetime           codeop              parso               urllib\n",
      "_decimal            collections         pathlib             uuid\n",
      "_elementtree        colorama            pdb                 venv\n",
      "_functools          colorsys            perfmon             warnings\n",
      "_hashlib            comm                pickle              wave\n",
      "_heapq              commctrl            pickletools         wcwidth\n",
      "_imp                compileall          pip                 weakref\n",
      "_interpchannels     concurrent          pkgutil             webbrowser\n",
      "_interpqueues       configparser        platform            win2kras\n",
      "_interpreters       contextlib          platformdirs        win32api\n",
      "_io                 contextvars         plistlib            win32clipboard\n",
      "_ios_support        copy                poplib              win32com\n",
      "_json               copyreg             posixpath           win32con\n",
      "_locale             csv                 pprint              win32console\n",
      "_lsprof             ctypes              profile             win32cred\n",
      "_lzma               curses              prompt_toolkit      win32crypt\n",
      "_markupbase         dataclasses         pstats              win32cryptcon\n",
      "_md5                datetime            psutil              win32event\n",
      "_multibytecodec     dateutil            pty                 win32evtlog\n",
      "_multiprocessing    dbm                 pure_eval           win32evtlogutil\n",
      "_opcode             dde                 py_compile          win32file\n",
      "_opcode_metadata    debugpy             pyclbr              win32gui\n",
      "_operator           decimal             pydoc               win32gui_struct\n",
      "_osx_support        decorator           pydoc_data          win32help\n",
      "_overlapped         difflib             pyexpat             win32inet\n",
      "_pickle             dis                 pygments            win32inetcon\n",
      "_py_abc             doctest             pythoncom           win32job\n",
      "_pydatetime         email               pywin               win32lz\n",
      "_pydecimal          encodings           pywin32_bootstrap   win32net\n",
      "_pyio               ensurepip           pywin32_testutil    win32netcon\n",
      "_pylong             enum                pywintypes          win32pdh\n",
      "_pyrepl             errno               queue               win32pdhquery\n",
      "_queue              executing           quopri              win32pdhutil\n",
      "_random             faulthandler        random              win32pipe\n",
      "_sha1               filecmp             rasutil             win32print\n",
      "_sha2               fileinput           re                  win32process\n",
      "_sha3               fnmatch             regcheck            win32profile\n",
      "_signal             fractions           regutil             win32ras\n",
      "_sitebuiltins       ftplib              reprlib             win32rcparser\n",
      "_socket             functools           rlcompleter         win32security\n",
      "_sqlite3            gc                  runpy               win32service\n",
      "_sre                genericpath         sched               win32serviceutil\n",
      "_ssl                getopt              secrets             win32timezone\n",
      "_stat               getpass             select              win32trace\n",
      "_statistics         gettext             selectors           win32traceutil\n",
      "_string             glob                servicemanager      win32transaction\n",
      "_strptime           graphlib            shelve              win32ts\n",
      "_struct             gzip                shlex               win32ui\n",
      "_suggestions        hashlib             shutil              win32uiole\n",
      "_symtable           heapq               signal              win32verstamp\n",
      "_sysconfig          hmac                site                win32wnet\n",
      "_testbuffer         html                six                 winerror\n",
      "_testcapi           http                smtplib             winioctlcon\n",
      "_testclinic         idlelib             socket              winnt\n",
      "_testclinic_limited imaplib             socketserver        winperf\n",
      "_testconsole        importlib           sqlite3             winreg\n",
      "_testimportmultiple inspect             sre_compile         winsound\n",
      "_testinternalcapi   io                  sre_constants       winxpgui\n",
      "_testlimitedcapi    ipaddress           sre_parse           winxptheme\n",
      "_testmultiphase     ipykernel           ssl                 wsgiref\n",
      "_testsinglephase    ipykernel_launcher  sspi                xml\n",
      "_thread             ipython_pygments_lexers sspicon             xmlrpc\n",
      "_threading_local    isapi               stack_data          xxsubtype\n",
      "_tkinter            itertools           start_pythonwin     zipapp\n",
      "_tokenize           jedi                stat                zipfile\n",
      "_tracemalloc        json                statistics          zipimport\n",
      "_typing             jupyter             string              zlib\n",
      "_uuid               jupyter_client      stringprep          zmq\n",
      "_warnings           jupyter_core        struct              zoneinfo\n",
      "_weakref            keyword             subprocess          \n",
      "\n",
      "Enter any module name to get more help.  Or, type \"modules spam\" to search\n",
      "for modules whose name or summary contain the string \"spam\".\n",
      "\n"
     ]
    }
   ],
   "source": [
    " help(\"modules\")"
   ]
  },
  {
   "cell_type": "code",
   "execution_count": 39,
   "id": "3c6d3d8b",
   "metadata": {},
   "outputs": [],
   "source": [
    "import math"
   ]
  },
  {
   "cell_type": "code",
   "execution_count": 40,
   "id": "a21dc0b7",
   "metadata": {},
   "outputs": [
    {
     "data": {
      "text/plain": [
       "3.141592653589793"
      ]
     },
     "execution_count": 40,
     "metadata": {},
     "output_type": "execute_result"
    }
   ],
   "source": [
    "math.pi"
   ]
  },
  {
   "cell_type": "code",
   "execution_count": 41,
   "id": "1e992f2f",
   "metadata": {},
   "outputs": [
    {
     "data": {
      "text/plain": [
       "2.718281828459045"
      ]
     },
     "execution_count": 41,
     "metadata": {},
     "output_type": "execute_result"
    }
   ],
   "source": [
    "math.e"
   ]
  },
  {
   "cell_type": "code",
   "execution_count": 42,
   "id": "8ed56d55",
   "metadata": {},
   "outputs": [
    {
     "data": {
      "text/plain": [
       "120"
      ]
     },
     "execution_count": 42,
     "metadata": {},
     "output_type": "execute_result"
    }
   ],
   "source": [
    "math.factorial(5)"
   ]
  },
  {
   "cell_type": "code",
   "execution_count": 43,
   "id": "76f9cfe8",
   "metadata": {},
   "outputs": [
    {
     "data": {
      "text/plain": [
       "7"
      ]
     },
     "execution_count": 43,
     "metadata": {},
     "output_type": "execute_result"
    }
   ],
   "source": [
    "math.ceil(6.3)"
   ]
  },
  {
   "cell_type": "code",
   "execution_count": 44,
   "id": "79e59759",
   "metadata": {},
   "outputs": [
    {
     "data": {
      "text/plain": [
       "6"
      ]
     },
     "execution_count": 44,
     "metadata": {},
     "output_type": "execute_result"
    }
   ],
   "source": [
    "math.floor(6.3)"
   ]
  },
  {
   "cell_type": "code",
   "execution_count": 45,
   "id": "2129dfee",
   "metadata": {},
   "outputs": [
    {
     "data": {
      "text/plain": [
       "2.0"
      ]
     },
     "execution_count": 45,
     "metadata": {},
     "output_type": "execute_result"
    }
   ],
   "source": [
    "math.sqrt(4)"
   ]
  },
  {
   "cell_type": "code",
   "execution_count": 47,
   "id": "7073b886",
   "metadata": {},
   "outputs": [],
   "source": [
    "import random"
   ]
  },
  {
   "cell_type": "code",
   "execution_count": 61,
   "id": "671f79fe",
   "metadata": {},
   "outputs": [
    {
     "data": {
      "text/plain": [
       "344"
      ]
     },
     "execution_count": 61,
     "metadata": {},
     "output_type": "execute_result"
    }
   ],
   "source": [
    "random.randint(1,500)"
   ]
  },
  {
   "cell_type": "code",
   "execution_count": 64,
   "id": "a1141081",
   "metadata": {},
   "outputs": [
    {
     "data": {
      "text/plain": [
       "[5, 2, 4, 1, 3]"
      ]
     },
     "execution_count": 64,
     "metadata": {},
     "output_type": "execute_result"
    }
   ],
   "source": [
    "a = [1,2,3,4,5]\n",
    "random.shuffle(a)\n",
    "a"
   ]
  },
  {
   "cell_type": "code",
   "execution_count": 65,
   "id": "f57fe476",
   "metadata": {},
   "outputs": [],
   "source": [
    "import time"
   ]
  },
  {
   "cell_type": "code",
   "execution_count": 83,
   "id": "89e60872",
   "metadata": {},
   "outputs": [
    {
     "data": {
      "text/plain": [
       "1754588127.7164302"
      ]
     },
     "execution_count": 83,
     "metadata": {},
     "output_type": "execute_result"
    }
   ],
   "source": [
    "time.time()"
   ]
  },
  {
   "cell_type": "code",
   "execution_count": 84,
   "id": "996961a9",
   "metadata": {},
   "outputs": [
    {
     "data": {
      "text/plain": [
       "'Thu Aug  7 23:35:38 2025'"
      ]
     },
     "execution_count": 84,
     "metadata": {},
     "output_type": "execute_result"
    }
   ],
   "source": [
    "time.ctime()"
   ]
  },
  {
   "cell_type": "code",
   "execution_count": 89,
   "id": "d36aa412",
   "metadata": {},
   "outputs": [
    {
     "name": "stdout",
     "output_type": "stream",
     "text": [
      "Hello\n",
      "World\n",
      "I am Sakib!!\n"
     ]
    }
   ],
   "source": [
    "print(\"Hello\")\n",
    "time.sleep(1)\n",
    "print(\"World\")\n",
    "time.sleep(0.8)\n",
    "print(\"I am Sakib!!\")"
   ]
  },
  {
   "cell_type": "code",
   "execution_count": 90,
   "id": "2f7408a9",
   "metadata": {},
   "outputs": [],
   "source": [
    "import os"
   ]
  },
  {
   "cell_type": "code",
   "execution_count": 91,
   "id": "0fe517f6",
   "metadata": {},
   "outputs": [
    {
     "data": {
      "text/plain": [
       "'d:\\\\Python\\\\100 Days python learning'"
      ]
     },
     "execution_count": 91,
     "metadata": {},
     "output_type": "execute_result"
    }
   ],
   "source": [
    "os.getcwd()"
   ]
  },
  {
   "cell_type": "code",
   "execution_count": 92,
   "id": "2d91e138",
   "metadata": {},
   "outputs": [
    {
     "data": {
      "text/plain": [
       "['.venv',\n",
       " 'Day01.ipynb',\n",
       " 'Day02.ipynb',\n",
       " 'Day03.ipynb',\n",
       " 'Day04.ipynb',\n",
       " 'Day05.ipynb',\n",
       " 'Day06.ipynb',\n",
       " 'Day07.ipynb',\n",
       " 'Day08.ipynb',\n",
       " 'Day09.ipynb',\n",
       " 'Day10.ipynb']"
      ]
     },
     "execution_count": 92,
     "metadata": {},
     "output_type": "execute_result"
    }
   ],
   "source": [
    "os.listdir()"
   ]
  },
  {
   "cell_type": "code",
   "execution_count": null,
   "id": "d92c245d",
   "metadata": {},
   "outputs": [],
   "source": []
  }
 ],
 "metadata": {
  "kernelspec": {
   "display_name": "Python 3",
   "language": "python",
   "name": "python3"
  },
  "language_info": {
   "codemirror_mode": {
    "name": "ipython",
    "version": 3
   },
   "file_extension": ".py",
   "mimetype": "text/x-python",
   "name": "python",
   "nbconvert_exporter": "python",
   "pygments_lexer": "ipython3",
   "version": "3.13.5"
  }
 },
 "nbformat": 4,
 "nbformat_minor": 5
}
