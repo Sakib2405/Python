{
 "cells": [
  {
   "cell_type": "markdown",
   "id": "915aa0ac",
   "metadata": {},
   "source": [
    "# Day 12"
   ]
  },
  {
   "cell_type": "markdown",
   "id": "67c755ed",
   "metadata": {},
   "source": [
    "### **Common Functions**\n",
    "\n",
    "+ len\n",
    "+ max\n",
    "+ min\n",
    "+ sorted"
   ]
  },
  {
   "cell_type": "code",
   "execution_count": 16,
   "id": "da5d14f6",
   "metadata": {},
   "outputs": [
    {
     "data": {
      "text/plain": [
       "5"
      ]
     },
     "execution_count": 16,
     "metadata": {},
     "output_type": "execute_result"
    }
   ],
   "source": [
    "c = \"dhaka\"\n",
    "len(c)"
   ]
  },
  {
   "cell_type": "code",
   "execution_count": 17,
   "id": "21aa8011",
   "metadata": {},
   "outputs": [
    {
     "data": {
      "text/plain": [
       "'k'"
      ]
     },
     "execution_count": 17,
     "metadata": {},
     "output_type": "execute_result"
    }
   ],
   "source": [
    "max(c)"
   ]
  },
  {
   "cell_type": "code",
   "execution_count": 18,
   "id": "5c1df471",
   "metadata": {},
   "outputs": [
    {
     "data": {
      "text/plain": [
       "'a'"
      ]
     },
     "execution_count": 18,
     "metadata": {},
     "output_type": "execute_result"
    }
   ],
   "source": [
    "min(c)"
   ]
  },
  {
   "cell_type": "code",
   "execution_count": 19,
   "id": "28149460",
   "metadata": {},
   "outputs": [
    {
     "data": {
      "text/plain": [
       "['a', 'a', 'd', 'h', 'k']"
      ]
     },
     "execution_count": 19,
     "metadata": {},
     "output_type": "execute_result"
    }
   ],
   "source": [
    "sorted(c)"
   ]
  },
  {
   "cell_type": "code",
   "execution_count": 20,
   "id": "87b0f72a",
   "metadata": {},
   "outputs": [
    {
     "data": {
      "text/plain": [
       "['k', 'h', 'd', 'a', 'a']"
      ]
     },
     "execution_count": 20,
     "metadata": {},
     "output_type": "execute_result"
    }
   ],
   "source": [
    "sorted(c, reverse=True)"
   ]
  },
  {
   "cell_type": "markdown",
   "id": "c47f8175",
   "metadata": {},
   "source": [
    "**1. Capitallize/Tittle/Upper/Lower/Swapcase**"
   ]
  },
  {
   "cell_type": "code",
   "execution_count": 23,
   "id": "c2a555c3",
   "metadata": {},
   "outputs": [
    {
     "data": {
      "text/plain": [
       "'Dhaka'"
      ]
     },
     "execution_count": 23,
     "metadata": {},
     "output_type": "execute_result"
    }
   ],
   "source": [
    "c\n",
    "c.capitalize()"
   ]
  },
  {
   "cell_type": "code",
   "execution_count": 24,
   "id": "ced78a47",
   "metadata": {},
   "outputs": [
    {
     "data": {
      "text/plain": [
       "'It Is Raining Today'"
      ]
     },
     "execution_count": 24,
     "metadata": {},
     "output_type": "execute_result"
    }
   ],
   "source": [
    "\"it is raining today\".title()"
   ]
  },
  {
   "cell_type": "code",
   "execution_count": 25,
   "id": "77768e7b",
   "metadata": {},
   "outputs": [
    {
     "data": {
      "text/plain": [
       "'DHAKA'"
      ]
     },
     "execution_count": 25,
     "metadata": {},
     "output_type": "execute_result"
    }
   ],
   "source": [
    "c.upper()"
   ]
  },
  {
   "cell_type": "code",
   "execution_count": 27,
   "id": "b68cf413",
   "metadata": {},
   "outputs": [
    {
     "data": {
      "text/plain": [
       "'dhaka'"
      ]
     },
     "execution_count": 27,
     "metadata": {},
     "output_type": "execute_result"
    }
   ],
   "source": [
    "c.lower()"
   ]
  },
  {
   "cell_type": "code",
   "execution_count": 28,
   "id": "308a3767",
   "metadata": {},
   "outputs": [
    {
     "data": {
      "text/plain": [
       "'dHakA'"
      ]
     },
     "execution_count": 28,
     "metadata": {},
     "output_type": "execute_result"
    }
   ],
   "source": [
    "\"DhAKa\".swapcase()"
   ]
  },
  {
   "cell_type": "markdown",
   "id": "9eb80e57",
   "metadata": {},
   "source": [
    "**2. Count**"
   ]
  },
  {
   "cell_type": "code",
   "execution_count": 33,
   "id": "1ff566d9",
   "metadata": {},
   "outputs": [
    {
     "data": {
      "text/plain": [
       "1"
      ]
     },
     "execution_count": 33,
     "metadata": {},
     "output_type": "execute_result"
    }
   ],
   "source": [
    "\"it is raining today\".count(\"is\")"
   ]
  },
  {
   "cell_type": "markdown",
   "id": "6da50833",
   "metadata": {},
   "source": [
    "**3. Find/Index**"
   ]
  },
  {
   "cell_type": "code",
   "execution_count": 34,
   "id": "b049aa04",
   "metadata": {},
   "outputs": [
    {
     "data": {
      "text/plain": [
       "0"
      ]
     },
     "execution_count": 34,
     "metadata": {},
     "output_type": "execute_result"
    }
   ],
   "source": [
    "\"it is raining today\".find(\"i\")"
   ]
  },
  {
   "cell_type": "code",
   "execution_count": 35,
   "id": "c6c4fb92",
   "metadata": {},
   "outputs": [
    {
     "data": {
      "text/plain": [
       "6"
      ]
     },
     "execution_count": 35,
     "metadata": {},
     "output_type": "execute_result"
    }
   ],
   "source": [
    "\"it is raining today\".find(\"raining\")"
   ]
  },
  {
   "cell_type": "code",
   "execution_count": 36,
   "id": "3c3401d9",
   "metadata": {},
   "outputs": [
    {
     "data": {
      "text/plain": [
       "16"
      ]
     },
     "execution_count": 36,
     "metadata": {},
     "output_type": "execute_result"
    }
   ],
   "source": [
    "\"it is raining today\".find(\"d\")"
   ]
  },
  {
   "cell_type": "code",
   "execution_count": 37,
   "id": "31c58270",
   "metadata": {},
   "outputs": [
    {
     "data": {
      "text/plain": [
       "-1"
      ]
     },
     "execution_count": 37,
     "metadata": {},
     "output_type": "execute_result"
    }
   ],
   "source": [
    "\"it is raining today\".find(\"x\")"
   ]
  },
  {
   "cell_type": "code",
   "execution_count": 38,
   "id": "7323a8b0",
   "metadata": {},
   "outputs": [
    {
     "data": {
      "text/plain": [
       "0"
      ]
     },
     "execution_count": 38,
     "metadata": {},
     "output_type": "execute_result"
    }
   ],
   "source": [
    "\"it is raining today\".index(\"i\")"
   ]
  },
  {
   "cell_type": "code",
   "execution_count": 39,
   "id": "8c4bd143",
   "metadata": {},
   "outputs": [
    {
     "ename": "ValueError",
     "evalue": "substring not found",
     "output_type": "error",
     "traceback": [
      "\u001b[31m---------------------------------------------------------------------------\u001b[39m",
      "\u001b[31mValueError\u001b[39m                                Traceback (most recent call last)",
      "\u001b[36mCell\u001b[39m\u001b[36m \u001b[39m\u001b[32mIn[39]\u001b[39m\u001b[32m, line 1\u001b[39m\n\u001b[32m----> \u001b[39m\u001b[32m1\u001b[39m \u001b[33;43m\"\u001b[39;49m\u001b[33;43mit is raining today\u001b[39;49m\u001b[33;43m\"\u001b[39;49m\u001b[43m.\u001b[49m\u001b[43mindex\u001b[49m\u001b[43m(\u001b[49m\u001b[33;43m\"\u001b[39;49m\u001b[33;43mx\u001b[39;49m\u001b[33;43m\"\u001b[39;49m\u001b[43m)\u001b[49m\n",
      "\u001b[31mValueError\u001b[39m: substring not found"
     ]
    }
   ],
   "source": [
    "\"it is raining today\".index(\"x\")"
   ]
  },
  {
   "cell_type": "markdown",
   "id": "a7fdbe5c",
   "metadata": {},
   "source": [
    "**4. endswith/startswith**"
   ]
  },
  {
   "cell_type": "code",
   "execution_count": 43,
   "id": "2ca07ea6",
   "metadata": {},
   "outputs": [
    {
     "data": {
      "text/plain": [
       "True"
      ]
     },
     "execution_count": 43,
     "metadata": {},
     "output_type": "execute_result"
    }
   ],
   "source": [
    "\"it is raining\".endswith(\"ing\")"
   ]
  },
  {
   "cell_type": "code",
   "execution_count": 44,
   "id": "27959102",
   "metadata": {},
   "outputs": [
    {
     "data": {
      "text/plain": [
       "False"
      ]
     },
     "execution_count": 44,
     "metadata": {},
     "output_type": "execute_result"
    }
   ],
   "source": [
    "\"it is raining\".startswith(\"is\")"
   ]
  },
  {
   "cell_type": "markdown",
   "id": "ba5c0cc1",
   "metadata": {},
   "source": [
    "**5. Format**"
   ]
  },
  {
   "cell_type": "code",
   "execution_count": 45,
   "id": "1990f5d6",
   "metadata": {},
   "outputs": [
    {
     "data": {
      "text/plain": [
       "'Hello my name is Sakib and I am 23 years old.'"
      ]
     },
     "execution_count": 45,
     "metadata": {},
     "output_type": "execute_result"
    }
   ],
   "source": [
    "\"Hello my name is {} and I am {} years old.\".format(\"Sakib\",23)"
   ]
  },
  {
   "cell_type": "markdown",
   "id": "5693026f",
   "metadata": {},
   "source": [
    "**6. isalnum/isalpha/isdecimal/isdigit/isidentifier**"
   ]
  },
  {
   "cell_type": "code",
   "execution_count": 46,
   "id": "747bd83b",
   "metadata": {},
   "outputs": [
    {
     "data": {
      "text/plain": [
       "True"
      ]
     },
     "execution_count": 46,
     "metadata": {},
     "output_type": "execute_result"
    }
   ],
   "source": [
    "\"Sakib123\".isalnum()"
   ]
  },
  {
   "cell_type": "code",
   "execution_count": 47,
   "id": "f2219de5",
   "metadata": {},
   "outputs": [
    {
     "data": {
      "text/plain": [
       "False"
      ]
     },
     "execution_count": 47,
     "metadata": {},
     "output_type": "execute_result"
    }
   ],
   "source": [
    "\"Sakib@23\".isalnum()"
   ]
  },
  {
   "cell_type": "code",
   "execution_count": 48,
   "id": "5ac9b191",
   "metadata": {},
   "outputs": [
    {
     "data": {
      "text/plain": [
       "True"
      ]
     },
     "execution_count": 48,
     "metadata": {},
     "output_type": "execute_result"
    }
   ],
   "source": [
    "\"FLAT\".isalpha()"
   ]
  },
  {
   "cell_type": "code",
   "execution_count": 49,
   "id": "6c77eb13",
   "metadata": {},
   "outputs": [
    {
     "data": {
      "text/plain": [
       "False"
      ]
     },
     "execution_count": 49,
     "metadata": {},
     "output_type": "execute_result"
    }
   ],
   "source": [
    "\"20A\".isdigit()"
   ]
  },
  {
   "cell_type": "code",
   "execution_count": 50,
   "id": "5b701f14",
   "metadata": {},
   "outputs": [
    {
     "data": {
      "text/plain": [
       "False"
      ]
     },
     "execution_count": 50,
     "metadata": {},
     "output_type": "execute_result"
    }
   ],
   "source": [
    "\"20A\".isdecimal()"
   ]
  },
  {
   "cell_type": "code",
   "execution_count": 51,
   "id": "33354469",
   "metadata": {},
   "outputs": [
    {
     "data": {
      "text/plain": [
       "True"
      ]
     },
     "execution_count": 51,
     "metadata": {},
     "output_type": "execute_result"
    }
   ],
   "source": [
    "\"hello_world\".isidentifier()"
   ]
  },
  {
   "cell_type": "code",
   "execution_count": 52,
   "id": "dd0b0914",
   "metadata": {},
   "outputs": [
    {
     "data": {
      "text/plain": [
       "False"
      ]
     },
     "execution_count": 52,
     "metadata": {},
     "output_type": "execute_result"
    }
   ],
   "source": [
    "\"hello world\".isidentifier()"
   ]
  },
  {
   "cell_type": "markdown",
   "id": "7076e962",
   "metadata": {},
   "source": [
    "**7. Split**"
   ]
  },
  {
   "cell_type": "code",
   "execution_count": 53,
   "id": "96e163e0",
   "metadata": {},
   "outputs": [
    {
     "data": {
      "text/plain": [
       "['Who', 'is', 'the', 'COA', 'of', 'Bangladesh']"
      ]
     },
     "execution_count": 53,
     "metadata": {},
     "output_type": "execute_result"
    }
   ],
   "source": [
    "\"Who is the COA of Bangladesh\".split()"
   ]
  },
  {
   "cell_type": "code",
   "execution_count": 54,
   "id": "b3a53c6e",
   "metadata": {},
   "outputs": [
    {
     "data": {
      "text/plain": [
       "['Who is the ', ' of Bangladesh']"
      ]
     },
     "execution_count": 54,
     "metadata": {},
     "output_type": "execute_result"
    }
   ],
   "source": [
    "\"Who is the COA of Bangladesh\".split(\"COA\")"
   ]
  },
  {
   "cell_type": "code",
   "execution_count": 55,
   "id": "9dfbc0ad",
   "metadata": {},
   "outputs": [
    {
     "data": {
      "text/plain": [
       "['Who is the COA of Bangladesh']"
      ]
     },
     "execution_count": 55,
     "metadata": {},
     "output_type": "execute_result"
    }
   ],
   "source": [
    "\"Who is the COA of Bangladesh\".split(\"x\")"
   ]
  },
  {
   "cell_type": "markdown",
   "id": "6bcd3b28",
   "metadata": {},
   "source": [
    "**8. Join**"
   ]
  },
  {
   "cell_type": "code",
   "execution_count": 60,
   "id": "7a999e6b",
   "metadata": {},
   "outputs": [
    {
     "data": {
      "text/plain": [
       "'Who is the COA of Bangladesh'"
      ]
     },
     "execution_count": 60,
     "metadata": {},
     "output_type": "execute_result"
    }
   ],
   "source": [
    "\" \".join(['Who', 'is', 'the', 'COA', 'of', 'Bangladesh'])"
   ]
  },
  {
   "cell_type": "code",
   "execution_count": 63,
   "id": "1d232e58",
   "metadata": {},
   "outputs": [
    {
     "data": {
      "text/plain": [
       "'Who-is-the-COA-of-Bangladesh'"
      ]
     },
     "execution_count": 63,
     "metadata": {},
     "output_type": "execute_result"
    }
   ],
   "source": [
    "\"-\".join(['Who', 'is', 'the', 'COA', 'of', 'Bangladesh'])"
   ]
  },
  {
   "cell_type": "markdown",
   "id": "425f437b",
   "metadata": {},
   "source": [
    "**9. Replace**"
   ]
  },
  {
   "cell_type": "code",
   "execution_count": 64,
   "id": "cc1eb8ba",
   "metadata": {},
   "outputs": [
    {
     "data": {
      "text/plain": [
       "'My name is Sakib'"
      ]
     },
     "execution_count": 64,
     "metadata": {},
     "output_type": "execute_result"
    }
   ],
   "source": [
    "\"My name is Nazmus\".replace(\"Nazmus\",\"Sakib\")"
   ]
  },
  {
   "cell_type": "markdown",
   "id": "cd4c5d9d",
   "metadata": {},
   "source": [
    "**10. Strip**"
   ]
  },
  {
   "cell_type": "code",
   "execution_count": 65,
   "id": "757ec31b",
   "metadata": {},
   "outputs": [
    {
     "name": "stdout",
     "output_type": "stream",
     "text": [
      "                Sakib          \n"
     ]
    }
   ],
   "source": [
    "name = \"                Sakib          \"\n",
    "print(name)"
   ]
  },
  {
   "cell_type": "code",
   "execution_count": 66,
   "id": "9f0cff90",
   "metadata": {},
   "outputs": [
    {
     "data": {
      "text/plain": [
       "'Sakib'"
      ]
     },
     "execution_count": 66,
     "metadata": {},
     "output_type": "execute_result"
    }
   ],
   "source": [
    "name.strip()"
   ]
  }
 ],
 "metadata": {
  "kernelspec": {
   "display_name": "Python 3",
   "language": "python",
   "name": "python3"
  },
  "language_info": {
   "codemirror_mode": {
    "name": "ipython",
    "version": 3
   },
   "file_extension": ".py",
   "mimetype": "text/x-python",
   "name": "python",
   "nbconvert_exporter": "python",
   "pygments_lexer": "ipython3",
   "version": "3.13.5"
  }
 },
 "nbformat": 4,
 "nbformat_minor": 5
}
