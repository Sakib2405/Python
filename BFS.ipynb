{
 "cells": [
  {
   "cell_type": "markdown",
   "id": "cf69480d",
   "metadata": {},
   "source": [
    "## BFS "
   ]
  },
  {
   "cell_type": "code",
   "execution_count": 1,
   "id": "4228c35b",
   "metadata": {},
   "outputs": [
    {
     "name": "stdout",
     "output_type": "stream",
     "text": [
      "BFS Traversal Order:\n",
      "A B C D E F "
     ]
    }
   ],
   "source": [
    "from collections import deque\n",
    "\n",
    "# Define the graph as an adjacency list\n",
    "graph = {\n",
    "    'A': ['B', 'C'],\n",
    "    'B': ['D', 'E'],\n",
    "    'C': ['F'],\n",
    "    'D': [],\n",
    "    'E': ['F'],\n",
    "    'F': []\n",
    "}\n",
    "\n",
    "# BFS function\n",
    "def bfs(graph, start_node):\n",
    "    visited = set()                 # Set to keep track of visited nodes\n",
    "    queue = deque([start_node])     # Queue for BFS, initialized with the start node\n",
    "\n",
    "    print(\"BFS Traversal Order:\")\n",
    "\n",
    "    while queue:\n",
    "        node = queue.popleft()      # Remove and return leftmost item\n",
    "        if node not in visited:\n",
    "            print(node, end=' ')    # Process the current node\n",
    "            visited.add(node)       # Mark the node as visited\n",
    "            queue.extend(graph[node])  # Add all adjacent nodes to the queue\n",
    "\n",
    "# Run BFS\n",
    "bfs(graph, 'A')\n"
   ]
  }
 ],
 "metadata": {
  "kernelspec": {
   "display_name": "Python 3",
   "language": "python",
   "name": "python3"
  },
  "language_info": {
   "codemirror_mode": {
    "name": "ipython",
    "version": 3
   },
   "file_extension": ".py",
   "mimetype": "text/x-python",
   "name": "python",
   "nbconvert_exporter": "python",
   "pygments_lexer": "ipython3",
   "version": "3.13.5"
  }
 },
 "nbformat": 4,
 "nbformat_minor": 5
}
