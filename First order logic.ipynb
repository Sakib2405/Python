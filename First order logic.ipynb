{
 "cells": [
  {
   "cell_type": "code",
   "execution_count": null,
   "id": "9efc72d1",
   "metadata": {},
   "outputs": [
    {
     "name": "stdout",
     "output_type": "stream",
     "text": [
      "All humans are mortal: True\n",
      "All students attend exam: True\n",
      "Some human is a student: True\n"
     ]
    }
   ],
   "source": [
    "\n",
    "def for_all(domain, predicate):\n",
    "    return all(predicate(x) for x in domain)\n",
    "\n",
    "def there_exists(domain, predicate):\n",
    "    return any(predicate(x) for x in domain)\n",
    "\n",
    "\n",
    "def Human(x):\n",
    "    return x in [\"Rahim\", \"Karim\", \"Salma\", \"Ayesha\"]\n",
    "\n",
    "def Mortal(x):\n",
    "    return Human(x) \n",
    "\n",
    "def Student(x):\n",
    "    return x in [\"Rahim\", \"Karim\"]\n",
    "\n",
    "def AttendExam(x):\n",
    "    return x in [\"Rahim\", \"Karim\"]\n",
    "\n",
    "\n",
    "people = [\"Rahim\", \"Karim\", \"Salma\", \"Ayesha\"]\n",
    "\n",
    "all_humans_are_mortal = for_all(people, lambda x: (not Human(x)) or Mortal(x))\n",
    "print(\"All humans are mortal:\", all_humans_are_mortal)\n",
    "\n",
    "\n",
    "all_students_attend_exam = for_all(people, lambda x: (not Student(x)) or AttendExam(x))\n",
    "print(\"All students attend exam:\", all_students_attend_exam)\n",
    "\n",
    "\n",
    "some_human_is_student = there_exists(people, lambda x: Human(x) and Student(x))\n",
    "print(\"Some human is a student:\", some_human_is_student)\n"
   ]
  },
  {
   "cell_type": "code",
   "execution_count": null,
   "id": "672d9326",
   "metadata": {},
   "outputs": [],
   "source": []
  }
 ],
 "metadata": {
  "kernelspec": {
   "display_name": "Python 3",
   "language": "python",
   "name": "python3"
  },
  "language_info": {
   "codemirror_mode": {
    "name": "ipython",
    "version": 3
   },
   "file_extension": ".py",
   "mimetype": "text/x-python",
   "name": "python",
   "nbconvert_exporter": "python",
   "pygments_lexer": "ipython3",
   "version": "3.13.5"
  }
 },
 "nbformat": 4,
 "nbformat_minor": 5
}
