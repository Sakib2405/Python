{
 "cells": [
  {
   "cell_type": "markdown",
   "id": "282516fa",
   "metadata": {},
   "source": [
    "# **Day 01: Basic Python**"
   ]
  },
  {
   "cell_type": "markdown",
   "id": "9329884b",
   "metadata": {},
   "source": [
    "## 1. Print something to the screen"
   ]
  },
  {
   "cell_type": "code",
   "execution_count": 9,
   "id": "4fd2d6be",
   "metadata": {},
   "outputs": [
    {
     "name": "stdout",
     "output_type": "stream",
     "text": [
      "Hello, Python!\n"
     ]
    }
   ],
   "source": [
    "# This is a comment. Comments help you explain your code.\n",
    "\n",
    "print(\"Hello, Python!\")\n"
   ]
  },
  {
   "cell_type": "markdown",
   "id": "a59b56cd",
   "metadata": {},
   "source": [
    "## 2. Variables: store data"
   ]
  },
  {
   "cell_type": "code",
   "execution_count": 10,
   "id": "3f21e7a2",
   "metadata": {},
   "outputs": [],
   "source": [
    "name = \"Nazmus\"\n",
    "age = 22\n",
    "gpa = 3.75\n",
    "is_passed = True\n"
   ]
  },
  {
   "cell_type": "markdown",
   "id": "4c173a55",
   "metadata": {},
   "source": [
    "## 3. Print variables"
   ]
  },
  {
   "cell_type": "code",
   "execution_count": 14,
   "id": "f1361925",
   "metadata": {},
   "outputs": [
    {
     "name": "stdout",
     "output_type": "stream",
     "text": [
      "Name: Nazmus\n",
      "Age: 22\n",
      "GPA: 3.75\n",
      "Passed: True\n"
     ]
    }
   ],
   "source": [
    "\n",
    "\n",
    "print(\"Name:\", name)\n",
    "print(\"Age:\", age)\n",
    "print(\"GPA:\", gpa)\n",
    "print(\"Passed:\", is_passed)\n"
   ]
  },
  {
   "cell_type": "markdown",
   "id": "e60950d6",
   "metadata": {},
   "source": [
    "## 4. Data types"
   ]
  },
  {
   "cell_type": "code",
   "execution_count": 12,
   "id": "5bd86814",
   "metadata": {},
   "outputs": [
    {
     "name": "stdout",
     "output_type": "stream",
     "text": [
      "<class 'str'>\n",
      "<class 'int'>\n",
      "<class 'float'>\n",
      "<class 'bool'>\n"
     ]
    }
   ],
   "source": [
    "print(type(name))   # str (string)\n",
    "print(type(age))    # int (integer)\n",
    "print(type(gpa))    # float (decimal number)\n",
    "print(type(is_passed)) # bool (True or False)"
   ]
  },
  {
   "cell_type": "markdown",
   "id": "ab7cd599",
   "metadata": {},
   "source": [
    "## 5. Simple math operations"
   ]
  },
  {
   "cell_type": "code",
   "execution_count": 13,
   "id": "69251815",
   "metadata": {},
   "outputs": [
    {
     "name": "stdout",
     "output_type": "stream",
     "text": [
      "Addition: 13\n",
      "Subtraction: 7\n",
      "Multiplication: 30\n",
      "Division: 3.3333333333333335\n",
      "Integer Division: 3\n",
      "Modulus (remainder): 1\n",
      "Exponent: 1000\n"
     ]
    }
   ],
   "source": [
    "x = 10\n",
    "y = 3\n",
    "print(\"Addition:\", x + y)\n",
    "print(\"Subtraction:\", x - y)\n",
    "print(\"Multiplication:\", x * y)\n",
    "print(\"Division:\", x / y)\n",
    "print(\"Integer Division:\", x // y)\n",
    "print(\"Modulus (remainder):\", x % y)\n",
    "print(\"Exponent:\", x ** y)"
   ]
  },
  {
   "cell_type": "markdown",
   "id": "56ab4cd1",
   "metadata": {},
   "source": [
    "## 6. Input from User"
   ]
  },
  {
   "cell_type": "code",
   "execution_count": 4,
   "id": "9aa87da6",
   "metadata": {},
   "outputs": [
    {
     "name": "stdout",
     "output_type": "stream",
     "text": [
      "Hello, Nazmus sakib!\n"
     ]
    }
   ],
   "source": [
    "user_name= input(\"Enter your name: \")\n",
    "print(\"Hello, \" + user_name + \"!\")"
   ]
  },
  {
   "cell_type": "markdown",
   "id": "5462e9db",
   "metadata": {},
   "source": [
    "## 7. Conditional Statements"
   ]
  },
  {
   "cell_type": "code",
   "execution_count": 6,
   "id": "c405968f",
   "metadata": {},
   "outputs": [
    {
     "name": "stdout",
     "output_type": "stream",
     "text": [
      "Your are a minor\n"
     ]
    }
   ],
   "source": [
    "age = int(input(\"Enter your age: \"))\n",
    "if age>= 18:\n",
    "    print(\"You are an adult.\")\n",
    "else:\n",
    "    print(\"Your are a minor\")"
   ]
  },
  {
   "cell_type": "markdown",
   "id": "ac2a1eb3",
   "metadata": {},
   "source": [
    "## 8. Loops(For Loop)"
   ]
  },
  {
   "cell_type": "markdown",
   "id": "ed267888",
   "metadata": {},
   "source": []
  },
  {
   "cell_type": "code",
   "execution_count": 7,
   "id": "3e3b815a",
   "metadata": {},
   "outputs": [
    {
     "name": "stdout",
     "output_type": "stream",
     "text": [
      "Iteration: 0\n",
      "Iteration: 1\n",
      "Iteration: 2\n",
      "Iteration: 3\n",
      "Iteration: 4\n"
     ]
    }
   ],
   "source": [
    "for i in range(5):\n",
    "    print(\"Iteration:\",i)"
   ]
  },
  {
   "cell_type": "markdown",
   "id": "7c7be80a",
   "metadata": {},
   "source": [
    "## 9. Writing a Simple Function"
   ]
  },
  {
   "cell_type": "code",
   "execution_count": 11,
   "id": "9a398607",
   "metadata": {},
   "outputs": [
    {
     "name": "stdout",
     "output_type": "stream",
     "text": [
      "Hello,Nazmus Sakib!\n"
     ]
    }
   ],
   "source": [
    "def greet(name):\n",
    "    print(\"Hello,\"+name+\"!\")\n",
    "\n",
    "greet(\"Nazmus Sakib\")"
   ]
  }
 ],
 "metadata": {
  "kernelspec": {
   "display_name": ".venv",
   "language": "python",
   "name": "python3"
  },
  "language_info": {
   "codemirror_mode": {
    "name": "ipython",
    "version": 3
   },
   "file_extension": ".py",
   "mimetype": "text/x-python",
   "name": "python",
   "nbconvert_exporter": "python",
   "pygments_lexer": "ipython3",
   "version": "3.13.5"
  }
 },
 "nbformat": 4,
 "nbformat_minor": 5
}
