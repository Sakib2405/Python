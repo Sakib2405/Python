{
 "cells": [
  {
   "cell_type": "markdown",
   "id": "282516fa",
   "metadata": {},
   "source": [
    "#### **Day 01: Basic Python**"
   ]
  },
  {
   "cell_type": "code",
   "execution_count": null,
   "id": "4fd2d6be",
   "metadata": {},
   "outputs": [
    {
     "ename": "",
     "evalue": "",
     "output_type": "error",
     "traceback": [
      "\u001b[1;31mRunning cells with 'Python 3.13.5' requires the ipykernel package.\n",
      "\u001b[1;31m<a href='command:jupyter.createPythonEnvAndSelectController'>Create a Python Environment</a> with the required packages."
     ]
    }
   ],
   "source": [
    "# This is a comment. Comments help you explain your code.\n",
    "\n",
    " # Print something to the screen\n",
    "print(\"Hello, Python!\")\n",
    "\n",
    "# Variables: store data\n",
    "name = \"Nazmus\"\n",
    "age = 22\n",
    "gpa = 3.75\n",
    "is_passed = True\n",
    "\n",
    "# Print variables\n",
    "print(\"Name:\", name)\n",
    "print(\"Age:\", age)\n",
    "print(\"GPA:\", gpa)\n",
    "print(\"Passed:\", is_passed)\n",
    "\n",
    "# Data types\n",
    "print(type(name))   # str (string)\n",
    "print(type(age))    # int (integer)\n",
    "print(type(gpa))    # float (decimal number)\n",
    "print(type(is_passed)) # bool (True or False)\n",
    "\n",
    "# Simple math operations\n",
    "x = 10\n",
    "y = 3\n",
    "print(\"Addition:\", x + y)\n",
    "print(\"Subtraction:\", x - y)\n",
    "print(\"Multiplication:\", x * y)\n",
    "print(\"Division:\", x / y)\n",
    "print(\"Integer Division:\", x // y)\n",
    "print(\"Modulus (remainder):\", x % y)\n",
    "print(\"Exponent:\", x ** y)\n",
    "\n",
    "# Take input from user (only works if you run this in a normal Python environment)\n",
    "# name_input = input(\"Enter your name: \")\n",
    "# print(\"Hello, \" + name_input + \"!\")\n",
    "\n",
    "# In Jupyter, use input() but it waits for your input\n"
   ]
  },
  {
   "cell_type": "markdown",
   "id": "ed267888",
   "metadata": {},
   "source": []
  }
 ],
 "metadata": {
  "kernelspec": {
   "display_name": "Python 3",
   "language": "python",
   "name": "python3"
  },
  "language_info": {
   "name": "python",
   "version": "3.13.5"
  }
 },
 "nbformat": 4,
 "nbformat_minor": 5
}
