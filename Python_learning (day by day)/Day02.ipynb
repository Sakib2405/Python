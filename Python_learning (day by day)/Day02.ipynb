{
 "cells": [
  {
   "cell_type": "markdown",
   "id": "917694f5",
   "metadata": {},
   "source": [
    "# **Day 02**"
   ]
  },
  {
   "cell_type": "markdown",
   "id": "8e9f9fcf",
   "metadata": {},
   "source": [
    "## 1. Type Conversion: "
   ]
  },
  {
   "cell_type": "markdown",
   "id": "eeb9a5ff",
   "metadata": {},
   "source": [
    "### 1.1 Convert string to number"
   ]
  },
  {
   "cell_type": "code",
   "execution_count": 2,
   "id": "464812c9",
   "metadata": {},
   "outputs": [
    {
     "name": "stdout",
     "output_type": "stream",
     "text": [
      "15\n"
     ]
    }
   ],
   "source": [
    "x= 5\n",
    "y= \"10\"\n",
    "\n",
    "# convert y to int:\n",
    "y=int(y)\n",
    "result= x+y\n",
    "print(result)\n"
   ]
  },
  {
   "cell_type": "markdown",
   "id": "37fa013f",
   "metadata": {},
   "source": [
    "### 1.2 Convert number to string"
   ]
  },
  {
   "cell_type": "code",
   "execution_count": 9,
   "id": "b39f26ba",
   "metadata": {},
   "outputs": [
    {
     "name": "stdout",
     "output_type": "stream",
     "text": [
      "I am 23 years old.\n"
     ]
    }
   ],
   "source": [
    "num= 23\n",
    "text= str(num)\n",
    "print(\"I am \" +text+ \" years old.\")"
   ]
  },
  {
   "cell_type": "markdown",
   "id": "97a049ea",
   "metadata": {},
   "source": [
    "## 2. Practise - Simple Math Programs"
   ]
  },
  {
   "cell_type": "code",
   "execution_count": 10,
   "id": "189d4e17",
   "metadata": {},
   "outputs": [
    {
     "name": "stdout",
     "output_type": "stream",
     "text": [
      "Sum: 33\n"
     ]
    }
   ],
   "source": [
    "a = int(input(\"Enter first number: \"))\n",
    "b= int(input(\"Enter second Numbber: \"))\n",
    "print(\"Sum:\",a+b)"
   ]
  },
  {
   "cell_type": "markdown",
   "id": "f2bf83e7",
   "metadata": {},
   "source": [
    "## 3. Find area of a Circle."
   ]
  },
  {
   "cell_type": "code",
   "execution_count": 12,
   "id": "f7860dd8",
   "metadata": {},
   "outputs": [
    {
     "name": "stdout",
     "output_type": "stream",
     "text": [
      "Area of Circle is:  50.1056\n"
     ]
    }
   ],
   "source": [
    "radius= float(input(\"Enter radius: \"))\n",
    "area= 3.1316*(radius**2)    # (** means to the power of)\n",
    "print(\"Area of Circle is: \",area)"
   ]
  },
  {
   "cell_type": "markdown",
   "id": "c80aff1e",
   "metadata": {},
   "source": [
    "## 4. Simple Calculator."
   ]
  },
  {
   "cell_type": "code",
   "execution_count": 1,
   "id": "924fd6e3",
   "metadata": {},
   "outputs": [
    {
     "name": "stdout",
     "output_type": "stream",
     "text": [
      "Addition: 22.0\n",
      "Subraction: 2.0\n",
      "Multiplication: 120.0\n",
      "Division: 1.2\n"
     ]
    }
   ],
   "source": [
    "num1 = float(input(\"Enter first number: \"))\n",
    "num2 = float(input(\"Enter second number: \"))\n",
    "print(\"Addition:\",num1+num2)\n",
    "print(\"Subraction:\",num1-num2)\n",
    "print(\"Multiplication:\",num1*num2)\n",
    "print(\"Division:\",num1/num2)"
   ]
  },
  {
   "cell_type": "markdown",
   "id": "91cce62d",
   "metadata": {},
   "source": [
    "## 5. If-else statement"
   ]
  },
  {
   "cell_type": "code",
   "execution_count": 8,
   "id": "382a296b",
   "metadata": {},
   "outputs": [
    {
     "name": "stdout",
     "output_type": "stream",
     "text": [
      "Gradee A+\n"
     ]
    }
   ],
   "source": [
    "mark =int(input(\"Enter your mark: \"))\n",
    "if mark>=80:\n",
    "    print(\"Gradee A+\")\n",
    "elif mark>=60:\n",
    "    print(\"Grade A\")\n",
    "elif mark>=50:\n",
    "    print(\"Grade B\")\n",
    "elif mark>=40:\n",
    "    print(\"Grade C\")\n",
    "elif mark>=33:\n",
    "    print(\"Grade D\")\n",
    "else:\n",
    "    print(\"Grade F\")"
   ]
  }
 ],
 "metadata": {
  "kernelspec": {
   "display_name": ".venv",
   "language": "python",
   "name": "python3"
  },
  "language_info": {
   "codemirror_mode": {
    "name": "ipython",
    "version": 3
   },
   "file_extension": ".py",
   "mimetype": "text/x-python",
   "name": "python",
   "nbconvert_exporter": "python",
   "pygments_lexer": "ipython3",
   "version": "3.13.5"
  }
 },
 "nbformat": 4,
 "nbformat_minor": 5
}
