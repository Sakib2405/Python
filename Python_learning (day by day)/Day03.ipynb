{
 "cells": [
  {
   "cell_type": "markdown",
   "id": "051bb8d3",
   "metadata": {},
   "source": [
    "# **Day-03** "
   ]
  },
  {
   "cell_type": "markdown",
   "id": "5a24cae4",
   "metadata": {},
   "source": [
    "## Example of Loop(For loop)"
   ]
  },
  {
   "cell_type": "code",
   "execution_count": 1,
   "id": "85a728b4",
   "metadata": {},
   "outputs": [
    {
     "name": "stdout",
     "output_type": "stream",
     "text": [
      "Apple\n",
      "Banana\n",
      "Mango\n"
     ]
    }
   ],
   "source": [
    "fruits = [\"Apple\",\"Banana\",\"Mango\"]\n",
    "for fruit in fruits:\n",
    "    print(fruit)"
   ]
  },
  {
   "cell_type": "markdown",
   "id": "f1068878",
   "metadata": {},
   "source": [
    "## While loop"
   ]
  },
  {
   "cell_type": "code",
   "execution_count": 2,
   "id": "2446b437",
   "metadata": {},
   "outputs": [
    {
     "name": "stdout",
     "output_type": "stream",
     "text": [
      "Count is 0\n",
      "Count is 1\n",
      "Count is 2\n",
      "Count is 3\n",
      "Count is 4\n"
     ]
    }
   ],
   "source": [
    "count = 0\n",
    "while count <5:\n",
    "    print(\"Count is\",count)\n",
    "    count +=1"
   ]
  },
  {
   "cell_type": "markdown",
   "id": "01f8e821",
   "metadata": {},
   "source": [
    "## Practice Exercise"
   ]
  },
  {
   "cell_type": "code",
   "execution_count": 3,
   "id": "0ca5dc77",
   "metadata": {},
   "outputs": [
    {
     "name": "stdout",
     "output_type": "stream",
     "text": [
      "You got a B\n"
     ]
    }
   ],
   "source": [
    "mark = int(input(\"Enter your mark: \"))\n",
    "if mark>= 80 and mark<=100:\n",
    "    print(\"You got an A+\")\n",
    "elif mark >=70 and mark < 80:\n",
    "    print(\"You got an A\")\n",
    "elif mark >=60 and mark < 70:\n",
    "    print(\"You got a B\")\n",
    "elif mark >=50 and mark < 60:\n",
    "    print(\"You got a C\")\n",
    "elif mark >=40 and mark < 50:\n",
    "    print(\"You got a D\")\n",
    "else:\n",
    "    print(\"You failed\")"
   ]
  },
  {
   "cell_type": "markdown",
   "id": "3c90c1bb",
   "metadata": {},
   "source": [
    "## Check number Positive, negative or Zero."
   ]
  },
  {
   "cell_type": "code",
   "execution_count": 7,
   "id": "dc2e74d3",
   "metadata": {},
   "outputs": [
    {
     "name": "stdout",
     "output_type": "stream",
     "text": [
      "Posiitive Number\n"
     ]
    }
   ],
   "source": [
    "num = float(input(\"Enter a number: \"))\n",
    "if num >0:\n",
    "    print(\"Posiitive Number\")\n",
    "elif num <0:\n",
    "    print(\"Negative number\")\n",
    "else:\n",
    "    \n",
    "    print(\"Zero\")"
   ]
  },
  {
   "cell_type": "markdown",
   "id": "de23f4bf",
   "metadata": {},
   "source": [
    "## If-else statement."
   ]
  },
  {
   "cell_type": "code",
   "execution_count": 11,
   "id": "0e7e46db",
   "metadata": {},
   "outputs": [
    {
     "name": "stdout",
     "output_type": "stream",
     "text": [
      "You are a Child.\n"
     ]
    }
   ],
   "source": [
    "age = int(input(\"Enter your age: \"))\n",
    "status = \"Adult\" if age >= 18 else \"Child\"\n",
    "print(f\"You are {'an 'if status == 'Adult'else 'a '}{status}.\")"
   ]
  },
  {
   "cell_type": "markdown",
   "id": "3ea9bede",
   "metadata": {},
   "source": [
    "## Conditional Statements"
   ]
  },
  {
   "cell_type": "code",
   "execution_count": 2,
   "id": "3681c477",
   "metadata": {},
   "outputs": [
    {
     "name": "stdout",
     "output_type": "stream",
     "text": [
      "You are an adult.\n"
     ]
    }
   ],
   "source": [
    "age = int (input(\"Enter your age: \"))\n",
    "if age >=18:\n",
    "    print(\"You are an adult.\")\n",
    "elif age >=12:\n",
    "    print(\"You area a teenager.\")\n",
    "else:\n",
    "    print(\"You are a child.\")"
   ]
  },
  {
   "cell_type": "code",
   "execution_count": null,
   "id": "397b0627",
   "metadata": {},
   "outputs": [],
   "source": []
  }
 ],
 "metadata": {
  "kernelspec": {
   "display_name": ".venv",
   "language": "python",
   "name": "python3"
  },
  "language_info": {
   "codemirror_mode": {
    "name": "ipython",
    "version": 3
   },
   "file_extension": ".py",
   "mimetype": "text/x-python",
   "name": "python",
   "nbconvert_exporter": "python",
   "pygments_lexer": "ipython3",
   "version": "3.13.5"
  }
 },
 "nbformat": 4,
 "nbformat_minor": 5
}
