{
 "cells": [
  {
   "cell_type": "markdown",
   "id": "c0a39ae3",
   "metadata": {},
   "source": [
    "# **Day 04**"
   ]
  },
  {
   "cell_type": "markdown",
   "id": "5ed02d79",
   "metadata": {},
   "source": [
    "### Keywords "
   ]
  },
  {
   "cell_type": "markdown",
   "id": "ecbef9c0",
   "metadata": {},
   "source": [
    "+ **Python is a case sensitive programming language**\n",
    "\n",
    "\n",
    "\n",
    "In programming, a keyword is a word that is reserved by a program because the word has aspecial meaning. Keywords can be commands or parameters. Every programming language has a set of keywords that cannot be used as variable names\n"
   ]
  },
  {
   "cell_type": "code",
   "execution_count": 2,
   "id": "cd10132c",
   "metadata": {},
   "outputs": [
    {
     "name": "stdout",
     "output_type": "stream",
     "text": [
      "['False', 'None', 'True', 'and', 'as', 'assert', 'async', 'await', 'break', 'class', 'continue', 'def', 'del', 'elif', 'else', 'except', 'finally', 'for', 'from', 'global', 'if', 'import', 'in', 'is', 'lambda', 'nonlocal', 'not', 'or', 'pass', 'raise', 'return', 'try', 'while', 'with', 'yield']\n"
     ]
    }
   ],
   "source": [
    "# python has 33 keywords\n",
    "import keyword\n",
    "print(keyword.kwlist)"
   ]
  },
  {
   "cell_type": "markdown",
   "id": "b65f4d93",
   "metadata": {},
   "source": []
  },
  {
   "cell_type": "markdown",
   "id": "5a524410",
   "metadata": {},
   "source": []
  }
 ],
 "metadata": {
  "kernelspec": {
   "display_name": ".venv",
   "language": "python",
   "name": "python3"
  },
  "language_info": {
   "codemirror_mode": {
    "name": "ipython",
    "version": 3
   },
   "file_extension": ".py",
   "mimetype": "text/x-python",
   "name": "python",
   "nbconvert_exporter": "python",
   "pygments_lexer": "ipython3",
   "version": "3.13.5"
  }
 },
 "nbformat": 4,
 "nbformat_minor": 5
}
