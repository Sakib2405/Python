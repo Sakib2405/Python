{
 "cells": [
  {
   "cell_type": "markdown",
   "id": "c0a39ae3",
   "metadata": {},
   "source": [
    "# **Day 04**"
   ]
  },
  {
   "cell_type": "markdown",
   "id": "54aaf4ad",
   "metadata": {},
   "source": [
    "## Loop: Factorial Calculator"
   ]
  },
  {
   "cell_type": "code",
   "execution_count": null,
   "id": "a2a058ea",
   "metadata": {},
   "outputs": [],
   "source": [
    "num= int(input(\"Enter a number: \"))\n",
    "factorial  = 1\n",
    "\n",
    "for i in range (1, num + 1):\n",
    "    factorial *= i\n",
    "\n",
    "print(\"Factorial of \",num, \"is\", factorial)"
   ]
  },
  {
   "cell_type": "code",
   "execution_count": null,
   "id": "ca9601ba",
   "metadata": {},
   "outputs": [],
   "source": [
    "num= int()"
   ]
  }
 ],
 "metadata": {
  "kernelspec": {
   "display_name": ".venv",
   "language": "python",
   "name": "python3"
  },
  "language_info": {
   "codemirror_mode": {
    "name": "ipython",
    "version": 3
   },
   "file_extension": ".py",
   "mimetype": "text/x-python",
   "name": "python",
   "nbconvert_exporter": "python",
   "pygments_lexer": "ipython3",
   "version": "3.13.5"
  }
 },
 "nbformat": 4,
 "nbformat_minor": 5
}
